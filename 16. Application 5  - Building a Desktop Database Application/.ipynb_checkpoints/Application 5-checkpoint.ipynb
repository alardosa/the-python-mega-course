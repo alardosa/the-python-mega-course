{
 "cells": [
  {
   "cell_type": "markdown",
   "metadata": {},
   "source": [
    "# Application 5 - Building a Desktop Database Application"
   ]
  },
  {
   "cell_type": "markdown",
   "metadata": {},
   "source": [
    "> Frontend -- GUI\n",
    "\n",
    "> Backend -- Database handling"
   ]
  },
  {
   "cell_type": "markdown",
   "metadata": {},
   "source": [
    "## Building Frontend"
   ]
  },
  {
   "cell_type": "markdown",
   "metadata": {},
   "source": [
    "#### A program that stores this book information:\n",
    "Title, Author, Year, ISBN\n",
    "\n",
    "User can:\n",
    "* View all records \n",
    "* Search an entry \n",
    "* Add entry\n",
    "* Update entry\n",
    "* Delete\n",
    "* Close"
   ]
  },
  {
   "cell_type": "markdown",
   "metadata": {},
   "source": [
    "GUI Basic Sketch\n",
    "![](sketch.png)"
   ]
  },
  {
   "cell_type": "markdown",
   "metadata": {},
   "source": [
    "Imagining a grid for better access\n",
    "![](grid.png)"
   ]
  },
  {
   "cell_type": "code",
   "execution_count": 3,
   "metadata": {},
   "outputs": [],
   "source": [
    "from tkinter import *\n",
    "\n",
    "window=Tk()\n",
    "\n",
    "## GUI for Table, Author, Year, ISBN entries    \n",
    "    \n",
    "a=Label(window,text=\"Title\")\n",
    "a.grid(row=0,column=0)\n",
    "\n",
    "title_text=StringVar()\n",
    "e=Entry(window,textvariable=title_text)\n",
    "e.grid(row=0,column=1)\n",
    "\n",
    "a1=Label(window,text=\"Author\")\n",
    "a1.grid(row=0,column=2)\n",
    "\n",
    "author_text=StringVar()\n",
    "e1=Entry(window,textvariable=author_text)\n",
    "e1.grid(row=0,column=3)\n",
    "\n",
    "a2=Label(window,text=\"Year\")\n",
    "a2.grid(row=1,column=0)\n",
    "\n",
    "year_text=StringVar()\n",
    "e2=Entry(window,textvariable=year_text)\n",
    "e2.grid(row=1,column=1)\n",
    "\n",
    "a3=Label(window,text=\"ISBN\")\n",
    "a3.grid(row=1,column=2)\n",
    "\n",
    "isbn_text=StringVar()\n",
    "e3=Entry(window,textvariable=isbn_text)\n",
    "e3.grid(row=1,column=3)\n",
    "\n",
    "## GUI for List Box and Scrollbar\n",
    "\n",
    "list1=Listbox(window,height=6,width=35)\n",
    "list1.grid(row=2,column=0,rowspan=6,columnspan=2)\n",
    "\n",
    "sb=Scrollbar(window)\n",
    "sb.grid(row=2,column=2,rowspan=6)\n",
    "\n",
    "list1.configure(yscrollcommand=sb.set)\n",
    "sb.configure(command=list1.yview)\n",
    "\n",
    "## GUI for Buttons (View all, Search entry, Add entry, delete, update and close)\n",
    "\n",
    "b=Button(window,text=\"View all\",width=12)\n",
    "b.grid(row=2,column=3)\n",
    "\n",
    "b1=Button(window,text=\"Search entry\",width=12)\n",
    "b1.grid(row=3,column=3)\n",
    "\n",
    "b2=Button(window,text=\"Add entry\",width=12)\n",
    "b2.grid(row=4,column=3)\n",
    "\n",
    "b3=Button(window,text=\"Update selected\",width=12)\n",
    "b3.grid(row=5,column=3)\n",
    "\n",
    "b4=Button(window,text=\"Delete selected\",width=12)\n",
    "b4.grid(row=6,column=3)\n",
    "\n",
    "b5=Button(window,text=\"Close\",width=12)\n",
    "b5.grid(row=7,column=3)\n",
    "\n",
    "window.mainloop()"
   ]
  },
  {
   "cell_type": "markdown",
   "metadata": {},
   "source": [
    "### Output \n",
    "![](frontend.png)"
   ]
  },
  {
   "cell_type": "markdown",
   "metadata": {},
   "source": [
    "## Building Backend"
   ]
  },
  {
   "cell_type": "code",
   "execution_count": 4,
   "metadata": {},
   "outputs": [],
   "source": [
    "from tkinter import *\n",
    "import sqlite3\n",
    "\n",
    "def connect():\n",
    "    conn=sqlite3.connect(\"books.db\")\n",
    "    cur=conn.cursor()\n",
    "    cur.execute(\"CREATE TABLE IF NOT EXISTS books (id INTEGER PRIMARY KEY, title text, author text, year integer, isbn integer)\") \n",
    "    conn.commit()\n",
    "    conn.close()\n",
    "\n",
    "def insert(title,author,year,isbn):\n",
    "    conn=sqlite3.connect(\"books.db\")\n",
    "    cur=conn.cursor()\n",
    "    cur.execute(\"INSERT INTO books VALUES(NULL,?,?,?,?)\",(title,author,year,isbn))\n",
    "    conn.commit()\n",
    "    conn.close()\n",
    "\n",
    "def view():\n",
    "    conn=sqlite3.connect(\"books.db\")\n",
    "    cur=conn.cursor()\n",
    "    cur.execute(\"SELECT * FROM books\")\n",
    "    rows=cur.fetchall()\n",
    "    conn.close()\n",
    "    return rows \n",
    "\n",
    "def search(title=\"\",author=\"\",year=\"\",isbn=\"\"):\n",
    "    conn=sqlite3.connect(\"books.db\")\n",
    "    cur=conn.cursor()\n",
    "    cur.execute(\"SELECT * FROM books WHERE title=? OR author=? OR year=? OR isbn=?\",(title,author,year,isbn))\n",
    "    rows=cur.fetchall()\n",
    "    conn.close()\n",
    "    return rows\n",
    "\n",
    "def delete(id):\n",
    "    conn=sqlite3.connect(\"books.db\")\n",
    "    cur=conn.cursor()\n",
    "    cur.execute(\"DELETE FROM books WHERE id=?\",(id,))\n",
    "    conn.commit()\n",
    "    conn.close()\n",
    "    \n",
    "def update(id,title,author,year,isbn):\n",
    "    conn=sqlite3.connect(\"books.db\")\n",
    "    cur=conn.cursor()\n",
    "    cur.execute(\"UPDATE books SET title=?, author=?, year=?, isbn=? WHERE id=?\",(title,author,year,isbn,id))\n",
    "    conn.commit()\n",
    "    conn.close()\n",
    "\n",
    "connect()"
   ]
  },
  {
   "cell_type": "markdown",
   "metadata": {},
   "source": [
    "#### Inserting data"
   ]
  },
  {
   "cell_type": "code",
   "execution_count": 5,
   "metadata": {},
   "outputs": [
    {
     "name": "stdout",
     "output_type": "stream",
     "text": [
      "[(1, 'The Sea', 'John Tablet', 1918, 946355476)]\n"
     ]
    }
   ],
   "source": [
    "connect()\n",
    "insert(\"The Sea\",\"John Tablet\",1918,946355476)\n",
    "print(view())"
   ]
  },
  {
   "cell_type": "code",
   "execution_count": 6,
   "metadata": {},
   "outputs": [
    {
     "name": "stdout",
     "output_type": "stream",
     "text": [
      "[(1, 'The Sea', 'John Tablet', 1918, 946355476), (2, 'The Earth', 'John Smith', 1965, 975345546)]\n"
     ]
    }
   ],
   "source": [
    "insert(\"The Earth\",\"John Smith\",1965,975345546)\n",
    "print(view())"
   ]
  },
  {
   "cell_type": "markdown",
   "metadata": {},
   "source": [
    "#### Searching data"
   ]
  },
  {
   "cell_type": "code",
   "execution_count": 7,
   "metadata": {},
   "outputs": [
    {
     "name": "stdout",
     "output_type": "stream",
     "text": [
      "[(2, 'The Earth', 'John Smith', 1965, 975345546)]\n"
     ]
    }
   ],
   "source": [
    "print(search(author=\"John Smith\"))"
   ]
  },
  {
   "cell_type": "code",
   "execution_count": 8,
   "metadata": {},
   "outputs": [
    {
     "name": "stdout",
     "output_type": "stream",
     "text": [
      "[(1, 'The Sea', 'John Tablet', 1918, 946355476), (2, 'The Earth', 'John Smith', 1965, 975345546), (3, 'The Sun', 'John Richard', 1923, 975354346)]\n"
     ]
    }
   ],
   "source": [
    "insert(\"The Sun\",\"John Richard\",1923,975354346)\n",
    "print(view())"
   ]
  },
  {
   "cell_type": "markdown",
   "metadata": {},
   "source": [
    "#### Deleting data"
   ]
  },
  {
   "cell_type": "code",
   "execution_count": 9,
   "metadata": {},
   "outputs": [],
   "source": [
    "delete(2)"
   ]
  },
  {
   "cell_type": "code",
   "execution_count": 10,
   "metadata": {},
   "outputs": [
    {
     "name": "stdout",
     "output_type": "stream",
     "text": [
      "[(1, 'The Sea', 'John Tablet', 1918, 946355476), (3, 'The Sun', 'John Richard', 1923, 975354346)]\n"
     ]
    }
   ],
   "source": [
    "print(view())"
   ]
  },
  {
   "cell_type": "markdown",
   "metadata": {},
   "source": [
    "#### Updating data"
   ]
  },
  {
   "cell_type": "code",
   "execution_count": 11,
   "metadata": {},
   "outputs": [
    {
     "name": "stdout",
     "output_type": "stream",
     "text": [
      "[(1, 'The moon', 'John  Smooth', 1943, 937236734), (3, 'The Sun', 'John Richard', 1923, 975354346)]\n"
     ]
    }
   ],
   "source": [
    "update(1,\"The moon\",\"John  Smooth\",1943,937236734)\n",
    "print(view())"
   ]
  },
  {
   "cell_type": "markdown",
   "metadata": {},
   "source": [
    "## Connecting Frontend and Backend "
   ]
  },
  {
   "cell_type": "markdown",
   "metadata": {},
   "source": [
    "We import  the backend.py file in the frontend.py file -- using import backend"
   ]
  },
  {
   "cell_type": "markdown",
   "metadata": {},
   "source": [
    "* Changes in frontend are as follows "
   ]
  },
  {
   "cell_type": "code",
   "execution_count": 12,
   "metadata": {},
   "outputs": [],
   "source": [
    "from tkinter import *\n",
    "import backend\n",
    "\n",
    "def get_selected_row(event):\n",
    "    global selected_tuple\n",
    "    index=list1.curselection()[0]\n",
    "    selected_tuple=list1.get(index)\n",
    "    e.delete(0,END)\n",
    "    e.insert(END,selected_tuple[1])\n",
    "    e1.delete(0,END)\n",
    "    e1.insert(END,selected_tuple[2])\n",
    "    e2.delete(0,END)\n",
    "    e2.insert(END,selected_tuple[3])\n",
    "    e3.delete(0,END)\n",
    "    e3.insert(END,selected_tuple[4])\n",
    "\n",
    "def view_command():\n",
    "    list1.delete(0,END)\n",
    "    for row in backend.view():\n",
    "        list1.insert(END,row)\n",
    "        \n",
    "def search_command():\n",
    "    list1.delete(0,END)\n",
    "    for row in backend.search(title_text.get(),author_text.get(),year_text.get(),isbn_text.get()):\n",
    "        list1.insert(END,row)\n",
    "\n",
    "def add_command():\n",
    "    backend.insert(title_text.get(),author_text.get(),year_text.get(),isbn_text.get())\n",
    "    list1.delete(0,END)\n",
    "    list1.insert(END,{title_text.get(),author_text.get(),year_text.get(),isbn_text.get()})\n",
    "\n",
    "def delete_command():\n",
    "    backend.delete(selected_tuple[0])\n",
    "    \n",
    "def update_command():\n",
    "    backend.update(selected_tuple[0],title_text.get(),author_text.get(),year_text.get(),isbn_text.get())\n",
    "        \n",
    "window=Tk()\n",
    "\n",
    "window.wm_title(\"Book Store\")\n",
    "\n",
    "## GUI for Table, Author, Year, ISBN entries    \n",
    "    \n",
    "a=Label(window,text=\"Title\")\n",
    "a.grid(row=0,column=0)\n",
    "\n",
    "title_text=StringVar()\n",
    "e=Entry(window,textvariable=title_text)\n",
    "e.grid(row=0,column=1)\n",
    "\n",
    "a1=Label(window,text=\"Author\")\n",
    "a1.grid(row=0,column=2)\n",
    "\n",
    "author_text=StringVar()\n",
    "e1=Entry(window,textvariable=author_text)\n",
    "e1.grid(row=0,column=3)\n",
    "\n",
    "a2=Label(window,text=\"Year\")\n",
    "a2.grid(row=1,column=0)\n",
    "\n",
    "year_text=StringVar()\n",
    "e2=Entry(window,textvariable=year_text)\n",
    "e2.grid(row=1,column=1)\n",
    "\n",
    "a3=Label(window,text=\"ISBN\")\n",
    "a3.grid(row=1,column=2)\n",
    "\n",
    "isbn_text=StringVar()\n",
    "e3=Entry(window,textvariable=isbn_text)\n",
    "e3.grid(row=1,column=3)\n",
    "\n",
    "## GUI for List Box and Scrollbar\n",
    "\n",
    "list1=Listbox(window,height=6,width=35)\n",
    "list1.grid(row=2,column=0,rowspan=6,columnspan=2)\n",
    "\n",
    "sb=Scrollbar(window)\n",
    "sb.grid(row=2,column=2,rowspan=6)\n",
    "\n",
    "list1.configure(yscrollcommand=sb.set)\n",
    "sb.configure(command=list1.yview)\n",
    "\n",
    "list1.bind('<<ListboxSelect>>',get_selected_row)\n",
    "\n",
    "## GUI for Buttons (View all, Search entry, Add entry, delete, update and close)\n",
    "\n",
    "b=Button(window,text=\"View all\",width=12,command=view_command)\n",
    "b.grid(row=2,column=3)\n",
    "\n",
    "b1=Button(window,text=\"Search entry\",width=12,command=search_command)\n",
    "b1.grid(row=3,column=3)\n",
    "\n",
    "b2=Button(window,text=\"Add entry\",width=12,command=add_command)\n",
    "b2.grid(row=4,column=3)\n",
    "\n",
    "b3=Button(window,text=\"Update selected\",width=12,command=update_command)\n",
    "b3.grid(row=5,column=3)\n",
    "\n",
    "b4=Button(window,text=\"Delete selected\",width=12,command=delete_command)\n",
    "b4.grid(row=6,column=3)\n",
    "\n",
    "b5=Button(window,text=\"Close\",width=12,command=window.destroy)\n",
    "b5.grid(row=7,column=3)\n",
    "\n",
    "window.mainloop()"
   ]
  },
  {
   "cell_type": "markdown",
   "metadata": {},
   "source": [
    "## Creating a .exe file (single executable file)"
   ]
  },
  {
   "cell_type": "markdown",
   "metadata": {},
   "source": [
    "### Use 'pyinstaller' library from pip-install "
   ]
  },
  {
   "cell_type": "markdown",
   "metadata": {},
   "source": [
    "pyinstaller --onefile --windowed frontend.py"
   ]
  },
  {
   "cell_type": "markdown",
   "metadata": {},
   "source": [
    "#### You will find your .exe file in \"dist\" folder by the name \"frontend.exe\""
   ]
  }
 ],
 "metadata": {
  "kernelspec": {
   "display_name": "Python 3",
   "language": "python",
   "name": "python3"
  },
  "language_info": {
   "codemirror_mode": {
    "name": "ipython",
    "version": 3
   },
   "file_extension": ".py",
   "mimetype": "text/x-python",
   "name": "python",
   "nbconvert_exporter": "python",
   "pygments_lexer": "ipython3",
   "version": "3.5.0"
  }
 },
 "nbformat": 4,
 "nbformat_minor": 2
}
