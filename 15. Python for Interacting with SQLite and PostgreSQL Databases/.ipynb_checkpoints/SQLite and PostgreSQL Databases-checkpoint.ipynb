{
 "cells": [
  {
   "cell_type": "markdown",
   "metadata": {},
   "source": [
    "# Python for Interacting with SQLite and PostgreSQL Databases"
   ]
  },
  {
   "cell_type": "markdown",
   "metadata": {},
   "source": [
    "Libraries for \n",
    ">SQLite -- sqlite3\n",
    "\n",
    ">PostgreSQL -- psycopg2"
   ]
  },
  {
   "cell_type": "code",
   "execution_count": 16,
   "metadata": {},
   "outputs": [],
   "source": [
    "import sqlite3\n",
    "import psycopg2"
   ]
  },
  {
   "cell_type": "markdown",
   "metadata": {},
   "source": [
    "## Interaction with SQLite"
   ]
  },
  {
   "cell_type": "markdown",
   "metadata": {},
   "source": [
    "### Creating a database"
   ]
  },
  {
   "cell_type": "markdown",
   "metadata": {},
   "source": [
    "1. Connect to a database\n",
    "2. Create a cursor object\n",
    "3. Write an SQL query\n",
    "4. Commit changes\n",
    "5. Close database connection"
   ]
  },
  {
   "cell_type": "code",
   "execution_count": 17,
   "metadata": {},
   "outputs": [],
   "source": [
    "conn=sqlite3.connect(\"lite.db\")\n",
    "cur=conn.cursor()\n",
    "cur.execute(\"CREATE TABLE IF NOT EXISTS store (item TEXT, quantity INTEGER, price REAL)\")\n",
    "conn.commit()\n",
    "conn.close()"
   ]
  },
  {
   "cell_type": "markdown",
   "metadata": {},
   "source": [
    "### Adding data to database"
   ]
  },
  {
   "cell_type": "code",
   "execution_count": 18,
   "metadata": {},
   "outputs": [],
   "source": [
    "conn=sqlite3.connect(\"lite.db\")\n",
    "cur=conn.cursor()\n",
    "cur.execute(\"CREATE TABLE IF NOT EXISTS store (item TEXT, quantity INTEGER, price REAL)\")\n",
    "cur.execute(\"INSERT INTO store VALUES('Wine Glass',8,10.5)\")\n",
    "conn.commit()\n",
    "conn.close()"
   ]
  },
  {
   "cell_type": "code",
   "execution_count": 19,
   "metadata": {},
   "outputs": [
    {
     "name": "stdout",
     "output_type": "stream",
     "text": [
      "[('Wine Glass', 8, 10.5), ('Coffee Cup', 10, 5.0), ('Water Glass', 40, 3.0)]\n"
     ]
    }
   ],
   "source": [
    "import sqlite3\n",
    "\n",
    "def create_table():\n",
    "    conn=sqlite3.connect(\"lite.db\")\n",
    "    cur=conn.cursor()\n",
    "    cur.execute(\"CREATE TABLE IF NOT EXISTS store (item TEXT, quantity INTEGER, price REAL)\")\n",
    "    conn.commit()\n",
    "    conn.close()\n",
    "    \n",
    "def insert(item,quantity,price):\n",
    "    conn=sqlite3.connect(\"lite.db\")\n",
    "    cur=conn.cursor()\n",
    "    cur.execute(\"INSERT INTO store VALUES(?,?,?)\",(item,quantity,price))\n",
    "    conn.commit()\n",
    "    conn.close()\n",
    "    \n",
    "insert(\"Coffee Cup\",10,5)\n",
    "insert(\"Water Glass\",40,3)\n",
    "\n",
    "def view():\n",
    "    conn=sqlite3.connect(\"lite.db\")\n",
    "    cur=conn.cursor()\n",
    "    cur.execute(\"SELECT * FROM store\")\n",
    "    rows=cur.fetchall()\n",
    "    conn.close()\n",
    "    return rows\n",
    "\n",
    "print(view())\n"
   ]
  },
  {
   "cell_type": "markdown",
   "metadata": {},
   "source": [
    "### Deleting and updating / inserting data in database"
   ]
  },
  {
   "cell_type": "code",
   "execution_count": 20,
   "metadata": {},
   "outputs": [
    {
     "name": "stdout",
     "output_type": "stream",
     "text": [
      "[('Coffee Cup', 10, 5.0), ('Water Glass', 40, 3.0)]\n"
     ]
    }
   ],
   "source": [
    "def delete(item):\n",
    "    conn=sqlite3.connect(\"lite.db\")\n",
    "    cur=conn.cursor()\n",
    "    cur.execute(\"DELETE FROM store WHERE item=?\",(item,))\n",
    "    conn.commit()\n",
    "    conn.close()\n",
    "    \n",
    "delete(\"Wine Glass\")\n",
    "print(view())"
   ]
  },
  {
   "cell_type": "code",
   "execution_count": 21,
   "metadata": {},
   "outputs": [
    {
     "name": "stdout",
     "output_type": "stream",
     "text": [
      "[('Coffee Cup', 10, 5.0), ('Water Glass', 11, 6.0)]\n"
     ]
    }
   ],
   "source": [
    "def update(quantity,price,item):\n",
    "    conn=sqlite3.connect(\"lite.db\")\n",
    "    cur=conn.cursor()\n",
    "    cur.execute(\"UPDATE store SET quantity=?, price=? WHERE item=?\",(quantity,price,item))\n",
    "    conn.commit() \n",
    "    conn.close()\n",
    "    \n",
    "update(11,6,\"Water Glass\")\n",
    "print(view())"
   ]
  },
  {
   "cell_type": "markdown",
   "metadata": {},
   "source": [
    "## Interaction with PostgreSQL"
   ]
  },
  {
   "cell_type": "code",
   "execution_count": 1,
   "metadata": {},
   "outputs": [],
   "source": [
    "import psycopg2"
   ]
  },
  {
   "cell_type": "markdown",
   "metadata": {},
   "source": [
    "Download PostgreSQL from here -- https://www.postgresql.org"
   ]
  },
  {
   "cell_type": "code",
   "execution_count": 2,
   "metadata": {},
   "outputs": [
    {
     "data": {
      "text/plain": [
       "'2.8.3 (dt dec pq3 ext)'"
      ]
     },
     "execution_count": 2,
     "metadata": {},
     "output_type": "execute_result"
    }
   ],
   "source": [
    "psycopg2.__version__"
   ]
  },
  {
   "cell_type": "code",
   "execution_count": 20,
   "metadata": {},
   "outputs": [
    {
     "name": "stdout",
     "output_type": "stream",
     "text": [
      "[('Apple', 10, 15.0)]\n"
     ]
    }
   ],
   "source": [
    "import psycopg2\n",
    " \n",
    "def create_table():\n",
    "    conn=psycopg2.connect(\"dbname='database' user='postgres' password='password' host='localhost' port='5432'\")\n",
    "    cur=conn.cursor()\n",
    "    cur.execute(\"CREATE TABLE IF NOT EXISTS store (item TEXT, quantity INTEGER, price REAL)\")\n",
    "    conn.commit()\n",
    "    conn.close()\n",
    "    \n",
    "def insert(item,quantity,price):\n",
    "    conn=psycopg2.connect(\"dbname='database' user='postgres' password='password' host='localhost' port='5432'\")\n",
    "    cur=conn.cursor()\n",
    "    #cur.execute(\"INSERT INTO store VALUES('%s','%s','%s')\" %(item,quantity,price))\n",
    "    cur.execute(\"INSERT INTO store VALUES(%s,%s,%s)\",(item,quantity,price))\n",
    "    conn.commit()\n",
    "    conn.close()\n",
    "    \n",
    "\n",
    "def view():\n",
    "    conn=psycopg2.connect(\"dbname='database' user='postgres' password='password' host='localhost' port='5432'\") \n",
    "    cur=conn.cursor()\n",
    "    cur.execute(\"SELECT * FROM store\")\n",
    "    rows=cur.fetchall()\n",
    "    conn.close()\n",
    "    return rows\n",
    "\n",
    "def delete(item):\n",
    "    conn=psycopg2.connect(\"dbname='database' user='postgres' password='password' host='localhost' port='5432'\")\n",
    "    cur=conn.cursor()\n",
    "    cur.execute(\"DELETE FROM store WHERE item=%s\",(item,))\n",
    "    conn.commit()\n",
    "    conn.close()\n",
    "\n",
    "def update(quantity,price,item):\n",
    "    conn=psycopg2.connect(\"dbname='database' user='postgres' password='password' host='localhost' port='5432'\")\n",
    "    cur=conn.cursor()\n",
    "    cur.execute(\"UPDATE store SET quantity=%s, price=%s WHERE item=%s\",(quantity,price,item))\n",
    "    conn.commit() \n",
    "    conn.close()\n",
    "\n",
    "create_table()\n",
    "#insert(\"Apple\",10,15)\n",
    "#insert(\"Orange\",20,18)\n",
    "\n",
    "print(view())\n"
   ]
  },
  {
   "cell_type": "code",
   "execution_count": 18,
   "metadata": {},
   "outputs": [
    {
     "name": "stdout",
     "output_type": "stream",
     "text": [
      "[('Apple', 10, 15.0)]\n"
     ]
    }
   ],
   "source": [
    "delete(\"Orange\")\n",
    "print(view())"
   ]
  },
  {
   "cell_type": "code",
   "execution_count": 21,
   "metadata": {},
   "outputs": [
    {
     "name": "stdout",
     "output_type": "stream",
     "text": [
      "[('Apple', 20, 60.0)]\n"
     ]
    }
   ],
   "source": [
    "update(20,60,\"Apple\")\n",
    "print(view())"
   ]
  },
  {
   "cell_type": "markdown",
   "metadata": {},
   "source": [
    "![](1.png)"
   ]
  },
  {
   "cell_type": "code",
   "execution_count": null,
   "metadata": {},
   "outputs": [],
   "source": []
  }
 ],
 "metadata": {
  "kernelspec": {
   "display_name": "Python 3",
   "language": "python",
   "name": "python3"
  },
  "language_info": {
   "codemirror_mode": {
    "name": "ipython",
    "version": 3
   },
   "file_extension": ".py",
   "mimetype": "text/x-python",
   "name": "python",
   "nbconvert_exporter": "python",
   "pygments_lexer": "ipython3",
   "version": "3.5.0"
  }
 },
 "nbformat": 4,
 "nbformat_minor": 2
}
