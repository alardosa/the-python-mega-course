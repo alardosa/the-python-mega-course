{
 "cells": [
  {
   "cell_type": "markdown",
   "metadata": {},
   "source": [
    "# Object Oriented Programming"
   ]
  },
  {
   "cell_type": "markdown",
   "metadata": {},
   "source": [
    "### Inheritence"
   ]
  },
  {
   "cell_type": "code",
   "execution_count": 27,
   "metadata": {},
   "outputs": [
    {
     "name": "stdout",
     "output_type": "stream",
     "text": [
      "375\n"
     ]
    }
   ],
   "source": [
    "class Account:\n",
    "    def __init__(self, filepath):\n",
    "        self.filepath=filepath\n",
    "        with open(filepath,'r') as file:\n",
    "            self.balance=int(file.read())\n",
    "\n",
    "    def withdraw(self, amount):\n",
    "        self.balance=self.balance - amount\n",
    "\n",
    "    def deposit(self, amount):\n",
    "        self.balance=self.balance + amount\n",
    "\n",
    "    def commit(self):\n",
    "        with open(self.filepath,'w') as file:\n",
    "            file.write(str(self.balance))\n",
    "            \n",
    "            \n",
    "class Checking(Account):\n",
    "    def __init__(self, filepath, fee):\n",
    "        Account.__init__(self, filepath)\n",
    "        self.fee=fee\n",
    "        \n",
    "    def transfer(self, amount):\n",
    "        self.balance=self.balance - amount - self.fee\n",
    "        \n",
    "checking=Checking(\"balance.txt\", 5)\n",
    "checking.transfer(20)\n",
    "print(checking.balance)\n",
    "checking.commit()\n",
    "        "
   ]
  },
  {
   "cell_type": "code",
   "execution_count": 29,
   "metadata": {},
   "outputs": [
    {
     "name": "stdout",
     "output_type": "stream",
     "text": [
      "50\n",
      "checking\n",
      "170\n",
      "checking\n",
      "None\n"
     ]
    }
   ],
   "source": [
    "class Account:\n",
    "    def __init__(self, filepath):\n",
    "        self.filepath=filepath\n",
    "        with open(filepath,'r') as file:\n",
    "            self.balance=int(file.read())\n",
    "\n",
    "    def withdraw(self, amount):\n",
    "        self.balance=self.balance - amount\n",
    "\n",
    "    def deposit(self, amount):\n",
    "        self.balance=self.balance + amount\n",
    "\n",
    "    def commit(self):\n",
    "        with open(self.filepath,'w') as file:\n",
    "            file.write(str(self.balance))\n",
    "            \n",
    "            \n",
    "class Checking(Account):\n",
    "    \n",
    "    type=\"checking\"\n",
    "    \n",
    "    def __init__(self, filepath, fee):\n",
    "        Account.__init__(self, filepath)\n",
    "        self.fee=fee\n",
    "        \n",
    "    def transfer(self, amount):\n",
    "        self.balance=self.balance - amount - self.fee\n",
    "\n",
    "\n",
    "jacks_checking=Checking(\"jack.txt\", 5)\n",
    "jacks_checking.transfer(20)\n",
    "print(jacks_checking.balance)\n",
    "jacks_checking.commit()\n",
    "print(jacks_checking.type)\n",
    "        \n",
    "johns_checking=Checking(\"john.txt\", 5)\n",
    "johns_checking.transfer(10)\n",
    "print(johns_checking.balance)\n",
    "johns_checking.commit()\n",
    "print(johns_checking.type)  \n",
    "\n",
    "print(johns_checking.__doc__)"
   ]
  },
  {
   "cell_type": "code",
   "execution_count": null,
   "metadata": {},
   "outputs": [],
   "source": []
  },
  {
   "cell_type": "code",
   "execution_count": null,
   "metadata": {},
   "outputs": [],
   "source": []
  }
 ],
 "metadata": {
  "kernelspec": {
   "display_name": "Python 3",
   "language": "python",
   "name": "python3"
  },
  "language_info": {
   "codemirror_mode": {
    "name": "ipython",
    "version": 3
   },
   "file_extension": ".py",
   "mimetype": "text/x-python",
   "name": "python",
   "nbconvert_exporter": "python",
   "pygments_lexer": "ipython3",
   "version": "3.7.3"
  }
 },
 "nbformat": 4,
 "nbformat_minor": 2
}
