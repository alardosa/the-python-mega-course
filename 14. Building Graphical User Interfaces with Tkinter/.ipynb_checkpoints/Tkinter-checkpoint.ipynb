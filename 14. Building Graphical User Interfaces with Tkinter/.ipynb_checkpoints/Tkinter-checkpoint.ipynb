{
 "cells": [
  {
   "cell_type": "markdown",
   "metadata": {},
   "source": [
    "# Building Graphical User Interfaces with Tkinter"
   ]
  },
  {
   "cell_type": "markdown",
   "metadata": {},
   "source": [
    "### Setting up GUI with widgets"
   ]
  },
  {
   "cell_type": "code",
   "execution_count": 17,
   "metadata": {},
   "outputs": [],
   "source": [
    "from tkinter import *\n",
    "\n",
    "window=Tk()\n",
    "\n",
    "b1=Button(window,text=\"Execute\")\n",
    "#b1.pack()\n",
    "b1.grid(row=0,column=0)\n",
    "\n",
    "e1=Entry(window)\n",
    "e1.grid(row=0,column=1)\n",
    "\n",
    "t1=Text(window,height=1,width=20)\n",
    "t1.grid(row=0,column=2)\n",
    "\n",
    "window.mainloop()"
   ]
  },
  {
   "cell_type": "code",
   "execution_count": 6,
   "metadata": {},
   "outputs": [],
   "source": [
    "Button?"
   ]
  },
  {
   "cell_type": "markdown",
   "metadata": {},
   "source": [
    "### Connecting GUI widgets with callback functions"
   ]
  },
  {
   "cell_type": "code",
   "execution_count": 25,
   "metadata": {},
   "outputs": [
    {
     "name": "stdout",
     "output_type": "stream",
     "text": [
      "Success!\n"
     ]
    }
   ],
   "source": [
    "from tkinter import *\n",
    "\n",
    "window=Tk()\n",
    "\n",
    "def km_2_miles():\n",
    "    print(\"Success!\")\n",
    "\n",
    "b1=Button(window,text=\"Execute\",command=km_2_miles)\n",
    "b1.grid(row=0,column=0)\n",
    "\n",
    "e1=Entry(window)\n",
    "e1.grid(row=0,column=1)\n",
    "\n",
    "t1=Text(window,height=1,width=20)\n",
    "t1.grid(row=0,column=2)\n",
    "\n",
    "window.mainloop()"
   ]
  },
  {
   "cell_type": "markdown",
   "metadata": {},
   "source": [
    "![](success.png)"
   ]
  },
  {
   "cell_type": "code",
   "execution_count": 32,
   "metadata": {},
   "outputs": [
    {
     "name": "stdout",
     "output_type": "stream",
     "text": [
      "4\n"
     ]
    }
   ],
   "source": [
    "from tkinter import *\n",
    "\n",
    "window=Tk()\n",
    "\n",
    "def km_2_miles():\n",
    "    print(e1_value.get())\n",
    "    miles=float(e1_value.get())*1.6\n",
    "    t1.insert(END,miles)\n",
    "\n",
    "b1=Button(window,text=\"Execute\",command=km_2_miles)\n",
    "b1.grid(row=0,column=0)\n",
    "\n",
    "e1_value=StringVar()\n",
    "e1=Entry(window,textvariable=e1_value)\n",
    "e1.grid(row=0,column=1)\n",
    "\n",
    "t1=Text(window,height=1,width=20)\n",
    "t1.grid(row=0,column=2)\n",
    "\n",
    "window.mainloop()"
   ]
  },
  {
   "cell_type": "markdown",
   "metadata": {},
   "source": [
    "![](2.png)"
   ]
  },
  {
   "cell_type": "markdown",
   "metadata": {},
   "source": [
    "## Exercise Question"
   ]
  },
  {
   "cell_type": "markdown",
   "metadata": {},
   "source": [
    "![](3.png)"
   ]
  },
  {
   "cell_type": "code",
   "execution_count": 58,
   "metadata": {},
   "outputs": [
    {
     "name": "stdout",
     "output_type": "stream",
     "text": [
      "6\n"
     ]
    }
   ],
   "source": [
    "from tkinter import *\n",
    "\n",
    "window=Tk()\n",
    "\n",
    "def conversion():\n",
    "    print(e_value.get())\n",
    "    grams=float(e_value.get())*1000        #Kg to Grams\n",
    "    t1.insert(END,grams)\n",
    "    pounds=float(e_value.get())*2.20462    #Kg to Pounds\n",
    "    t2.insert(END,pounds)\n",
    "    ounces=float(e_value.get())*35.274    #Kg to Ounces\n",
    "    t3.insert(END,ounces)\n",
    "\n",
    "a=Label(window,text=\"Kg\")\n",
    "a.grid(row=0,column=0)\n",
    "\n",
    "e_value=StringVar()\n",
    "e=Entry(window,textvariable=e_value)\n",
    "e.grid(row=0,column=1)\n",
    "\n",
    "b=Button(window,text=\"Convert\",command=conversion)\n",
    "b.grid(row=0,column=2)\n",
    "\n",
    "t1=Text(window,height=1,width=20)\n",
    "t1.grid(row=1,column=0)\n",
    "\n",
    "t2=Text(window,height=1,width=20)\n",
    "t2.grid(row=1,column=1)\n",
    "\n",
    "t3=Text(window,height=1,width=20)\n",
    "t3.grid(row=1,column=2)\n",
    "\n",
    "window.mainloop()"
   ]
  },
  {
   "cell_type": "markdown",
   "metadata": {},
   "source": [
    "![](4.png)"
   ]
  },
  {
   "cell_type": "code",
   "execution_count": null,
   "metadata": {},
   "outputs": [],
   "source": []
  }
 ],
 "metadata": {
  "kernelspec": {
   "display_name": "Python 3",
   "language": "python",
   "name": "python3"
  },
  "language_info": {
   "codemirror_mode": {
    "name": "ipython",
    "version": 3
   },
   "file_extension": ".py",
   "mimetype": "text/x-python",
   "name": "python",
   "nbconvert_exporter": "python",
   "pygments_lexer": "ipython3",
   "version": "3.5.0"
  }
 },
 "nbformat": 4,
 "nbformat_minor": 2
}
