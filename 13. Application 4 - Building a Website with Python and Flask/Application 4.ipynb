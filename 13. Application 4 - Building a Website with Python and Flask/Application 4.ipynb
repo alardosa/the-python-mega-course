{
 "cells": [
  {
   "cell_type": "markdown",
   "metadata": {},
   "source": [
    "# Application 4 - Building a Website with Python and Flask"
   ]
  },
  {
   "cell_type": "markdown",
   "metadata": {},
   "source": [
    "Install Flask Library using pip install"
   ]
  },
  {
   "cell_type": "code",
   "execution_count": 1,
   "metadata": {},
   "outputs": [],
   "source": [
    "from flask import Flask"
   ]
  },
  {
   "cell_type": "markdown",
   "metadata": {},
   "source": [
    "### Simple Webpage"
   ]
  },
  {
   "cell_type": "code",
   "execution_count": 2,
   "metadata": {},
   "outputs": [
    {
     "name": "stdout",
     "output_type": "stream",
     "text": [
      " * Serving Flask app \"__main__\" (lazy loading)\n",
      " * Environment: production\n",
      "   WARNING: This is a development server. Do not use it in a production deployment.\n",
      "   Use a production WSGI server instead.\n",
      " * Debug mode: on\n"
     ]
    },
    {
     "name": "stderr",
     "output_type": "stream",
     "text": [
      " * Restarting with stat\n"
     ]
    },
    {
     "ename": "SystemExit",
     "evalue": "1",
     "output_type": "error",
     "traceback": [
      "An exception has occurred, use %tb to see the full traceback.\n",
      "\u001b[1;31mSystemExit\u001b[0m\u001b[1;31m:\u001b[0m 1\n"
     ]
    },
    {
     "name": "stderr",
     "output_type": "stream",
     "text": [
      "c:\\users\\toshiba\\appdata\\local\\programs\\python\\python35-32\\lib\\site-packages\\IPython\\core\\interactiveshell.py:3275: UserWarning: To exit: use 'exit', 'quit', or Ctrl-D.\n",
      "  warn(\"To exit: use 'exit', 'quit', or Ctrl-D.\", stacklevel=1)\n"
     ]
    }
   ],
   "source": [
    "## web.py\n",
    "\n",
    "from flask import Flask\n",
    "\n",
    "app=Flask(__name__)\n",
    "\n",
    "@app.route('/')\n",
    "def home():\n",
    "    return \"Website 6666 content goes here.\"\n",
    "\n",
    "if __name__==\"__main__\":\n",
    "    app.run(debug=True)"
   ]
  },
  {
   "cell_type": "markdown",
   "metadata": {},
   "source": [
    "* Run this code from a python file saved in the path = \"D:\\Viren\\Python\\Solutions\\13. Application 4 - Building a Website with Python and Flask\"\n",
    "* Keep the terminal open while opening the webpage, the homepage link will be given in the terminal -- \"http://127.0.0.1:5000/\""
   ]
  },
  {
   "cell_type": "markdown",
   "metadata": {},
   "source": [
    "### Output"
   ]
  },
  {
   "cell_type": "markdown",
   "metadata": {},
   "source": [
    "![title](terminal.png)"
   ]
  },
  {
   "cell_type": "markdown",
   "metadata": {},
   "source": [
    "![title](homepage.png)"
   ]
  },
  {
   "cell_type": "code",
   "execution_count": 3,
   "metadata": {},
   "outputs": [
    {
     "name": "stdout",
     "output_type": "stream",
     "text": [
      " * Serving Flask app \"__main__\" (lazy loading)\n",
      " * Environment: production\n",
      "   WARNING: This is a development server. Do not use it in a production deployment.\n",
      "   Use a production WSGI server instead.\n",
      " * Debug mode: on\n"
     ]
    },
    {
     "name": "stderr",
     "output_type": "stream",
     "text": [
      " * Restarting with stat\n"
     ]
    },
    {
     "ename": "SystemExit",
     "evalue": "1",
     "output_type": "error",
     "traceback": [
      "An exception has occurred, use %tb to see the full traceback.\n",
      "\u001b[1;31mSystemExit\u001b[0m\u001b[1;31m:\u001b[0m 1\n"
     ]
    }
   ],
   "source": [
    "## web1.py\n",
    "\n",
    "from flask import Flask\n",
    "\n",
    "app=Flask(__name__)\n",
    "\n",
    "@app.route('/')\n",
    "def about():\n",
    "    return \"About content goes here.\"\n",
    "\n",
    "@app.route('/')\n",
    "def home():\n",
    "    return \"Homepage.\"\n",
    "\n",
    "if __name__==\"__main__\":\n",
    "    app.run(debug=True)"
   ]
  },
  {
   "cell_type": "markdown",
   "metadata": {},
   "source": [
    "![title](home1.png)"
   ]
  },
  {
   "cell_type": "markdown",
   "metadata": {},
   "source": [
    "![title](about1.png)"
   ]
  },
  {
   "cell_type": "markdown",
   "metadata": {},
   "source": [
    "### Returning HTML templates"
   ]
  },
  {
   "cell_type": "code",
   "execution_count": 4,
   "metadata": {},
   "outputs": [
    {
     "name": "stdout",
     "output_type": "stream",
     "text": [
      "<!DOCTYPE html>\n",
      "<html>\n",
      "<body>\n",
      "\t<h1>My Homepage</h1>\n",
      "\t<p>This is a test website</p>\n",
      "</body>\n",
      "</html>\n"
     ]
    }
   ],
   "source": [
    "## HomePage template\n",
    "\n",
    "file=open(\"templates/home1.html\",\"r\")\n",
    "print(file.read())"
   ]
  },
  {
   "cell_type": "code",
   "execution_count": 5,
   "metadata": {},
   "outputs": [
    {
     "name": "stdout",
     "output_type": "stream",
     "text": [
      "<!DOCTYPE html>\n",
      "<html>\n",
      "<body>\n",
      "\t<h1>About page</h1>\n",
      "\t<p>This is a test website</p>\n",
      "</body>\n",
      "</html>\n"
     ]
    }
   ],
   "source": [
    "## AboutPage template\n",
    "\n",
    "file=open(\"templates/about1.html\",\"r\")\n",
    "print(file.read())"
   ]
  },
  {
   "cell_type": "code",
   "execution_count": 6,
   "metadata": {},
   "outputs": [
    {
     "name": "stdout",
     "output_type": "stream",
     "text": [
      " * Serving Flask app \"__main__\" (lazy loading)\n",
      " * Environment: production\n",
      "   WARNING: This is a development server. Do not use it in a production deployment.\n",
      "   Use a production WSGI server instead.\n",
      " * Debug mode: on\n"
     ]
    },
    {
     "name": "stderr",
     "output_type": "stream",
     "text": [
      " * Restarting with stat\n"
     ]
    },
    {
     "ename": "SystemExit",
     "evalue": "1",
     "output_type": "error",
     "traceback": [
      "An exception has occurred, use %tb to see the full traceback.\n",
      "\u001b[1;31mSystemExit\u001b[0m\u001b[1;31m:\u001b[0m 1\n"
     ]
    }
   ],
   "source": [
    "## web2.py\n",
    "\n",
    "from flask import Flask, render_template\n",
    "\n",
    "app=Flask(__name__)\n",
    "\n",
    "@app.route('/')\n",
    "def home():\n",
    "    return render_template(\"home1.html\")\n",
    "\n",
    "@app.route('/about/')\n",
    "def about():\n",
    "    return render_template(\"about1.html\")\n",
    "\n",
    "if __name__==\"__main__\":\n",
    "    app.run(debug=True)\n"
   ]
  },
  {
   "cell_type": "markdown",
   "metadata": {},
   "source": [
    "![title](home_temp.png)"
   ]
  },
  {
   "cell_type": "markdown",
   "metadata": {},
   "source": [
    "![title](about_temp.png)"
   ]
  },
  {
   "cell_type": "markdown",
   "metadata": {},
   "source": [
    "### Adding a Navigation Menu"
   ]
  },
  {
   "cell_type": "code",
   "execution_count": 9,
   "metadata": {},
   "outputs": [
    {
     "name": "stdout",
     "output_type": "stream",
     "text": [
      "{%extends \"layout.html\"%}\n",
      "{%block content%}\n",
      "<div class=\"home\">\n",
      "\t<h1>My Homepage</h1>\n",
      "\t<p>This is a test website</p>\n",
      "</div>\n",
      "{%endblock%}\n"
     ]
    }
   ],
   "source": [
    "## HomePage template\n",
    "\n",
    "file=open(\"templates/home.html\",\"r\")\n",
    "print(file.read())"
   ]
  },
  {
   "cell_type": "code",
   "execution_count": 10,
   "metadata": {},
   "outputs": [
    {
     "name": "stdout",
     "output_type": "stream",
     "text": [
      "{%extends \"layout.html\"%}\n",
      "{%block content%}\n",
      "<div class=\"about\">\n",
      "\t<h1>About Page</h1>\n",
      "\t<p>This is a test website</p>\n",
      "</div>\n",
      "{%endblock%}\n"
     ]
    }
   ],
   "source": [
    "## AboutPage template\n",
    "\n",
    "file=open(\"templates/about.html\",\"r\")\n",
    "print(file.read())"
   ]
  },
  {
   "cell_type": "code",
   "execution_count": 13,
   "metadata": {},
   "outputs": [
    {
     "name": "stdout",
     "output_type": "stream",
     "text": [
      "<!DOCTYPE html>\n",
      "<html>\n",
      "  <body>\n",
      "    <header>\n",
      "      <div class=\"container\">\n",
      "\t<h1 class=\"logo\">Viren's Web App</h1>\n",
      "        <strong><nav>\n",
      "\t  <ul class =\"menu\">\n",
      "\t    <li><a href=\"{{ url_for('home')}}\">Home</a></li>\n",
      "\t    <li><a href=\"{{ url_for('about')}}\">About</a></li>\n",
      "\t  </ul>\n",
      "\t</nav></strong>\n",
      "      </div>\n",
      "    </header>\n",
      "    <div class=\"container\">\n",
      "\t{%block content%}\n",
      "\t{%endblock%}\n",
      "    </div>\n",
      "  </body>\n",
      "</html> \n"
     ]
    }
   ],
   "source": [
    "## LayoutPage template\n",
    "\n",
    "file=open(\"templates/layout.html\",\"r\")\n",
    "print(file.read())"
   ]
  },
  {
   "cell_type": "code",
   "execution_count": 14,
   "metadata": {},
   "outputs": [
    {
     "name": "stdout",
     "output_type": "stream",
     "text": [
      " * Serving Flask app \"__main__\" (lazy loading)\n",
      " * Environment: production\n",
      "   WARNING: This is a development server. Do not use it in a production deployment.\n",
      "   Use a production WSGI server instead.\n",
      " * Debug mode: on\n"
     ]
    },
    {
     "name": "stderr",
     "output_type": "stream",
     "text": [
      " * Restarting with stat\n"
     ]
    },
    {
     "ename": "SystemExit",
     "evalue": "1",
     "output_type": "error",
     "traceback": [
      "An exception has occurred, use %tb to see the full traceback.\n",
      "\u001b[1;31mSystemExit\u001b[0m\u001b[1;31m:\u001b[0m 1\n"
     ]
    }
   ],
   "source": [
    "## web3.py\n",
    "\n",
    "from flask import Flask, render_template\n",
    "\n",
    "app=Flask(__name__)\n",
    "\n",
    "@app.route('/')\n",
    "def home():\n",
    "    return render_template(\"home.html\")\n",
    "\n",
    "@app.route('/about/')\n",
    "def about():\n",
    "    return render_template(\"about.html\")\n",
    "\n",
    "if __name__==\"__main__\":\n",
    "    app.run(debug=True)"
   ]
  },
  {
   "cell_type": "markdown",
   "metadata": {},
   "source": [
    "![title](navmenu.png)"
   ]
  },
  {
   "cell_type": "markdown",
   "metadata": {},
   "source": [
    "### Adding CSS Styling"
   ]
  },
  {
   "cell_type": "code",
   "execution_count": 16,
   "metadata": {},
   "outputs": [
    {
     "name": "stdout",
     "output_type": "stream",
     "text": [
      "body {\n",
      "  margin: 0;\n",
      "  padding: 0;\n",
      "  font-family: \"Helvetica Neue\", Helvetica, Arial, sans-serif;\n",
      "  color: #060;\n",
      "}\n",
      "\n",
      "/*\n",
      " * Formatting the header area\n",
      " */\n",
      "\n",
      "header {\n",
      "  background-color: #DFB887;\n",
      "  height: 35px;\n",
      "  width: 100%;\n",
      "  opacity: .9;\n",
      "  margin-bottom: 10px;\n",
      "}\n",
      "\n",
      "header h1.logo {\n",
      "  margin: 0;\n",
      "  font-size: 1.7em;\n",
      "  color: #fff;\n",
      "  text-transform: uppercase;\n",
      "  float: left;\n",
      "}\n",
      "\n",
      "header h1.logo:hover {\n",
      "  color: #fff;\n",
      "  text-decoration: none;\n",
      "}\n",
      "\n",
      "/*\n",
      " * Center the body content\n",
      " */\n",
      "\n",
      ".container {\n",
      "  width: 1200px;\n",
      "  margin: 0 auto;\n",
      "}\n",
      "\n",
      "div.home {\n",
      "  padding: 10px 0 30px 0;\n",
      "  background-color: #E6E6FA;\n",
      "  -webkit-border-radius: 6px;\n",
      "     -moz-border-radius: 6px;\n",
      "          border-radius: 6px;\n",
      "}\n",
      "\n",
      "div.about {\n",
      "  padding: 10px 0 30px 0;\n",
      "  background-color: #E6E6FA;\n",
      "  -webkit-border-radius: 6px;\n",
      "     -moz-border-radius: 6px;\n",
      "          border-radius: 6px;\n",
      "}\n",
      "\n",
      "h2 {\n",
      "  font-size: 3em;\n",
      "  margin-top: 40px;\n",
      "  text-align: center;\n",
      "  letter-spacing: -2px;\n",
      "}\n",
      "\n",
      "h3 {\n",
      "  font-size: 1.7em;\n",
      "  font-weight: 100;\n",
      "  margin-top: 30px;\n",
      "  text-align: center;\n",
      "  letter-spacing: -1px;\n",
      "  color: #999;\n",
      "}\n",
      "\n",
      ".menu {\n",
      "  float: right;\n",
      "  margin-top: 8px;\n",
      "}\n",
      "\n",
      ".menu li {\n",
      "  display: inline;\n",
      "}\n",
      "\n",
      ".menu li + li {\n",
      "  margin-left: 35px;\n",
      "}\n",
      "\n",
      ".menu li a {\n",
      "  color: #444;\n",
      "  text-decoration: none;\n",
      "}\n",
      "\n"
     ]
    }
   ],
   "source": [
    "## CSS file\n",
    "\n",
    "file=open(\"static/css/main.css\",\"r\")\n",
    "print(file.read())"
   ]
  },
  {
   "cell_type": "code",
   "execution_count": 15,
   "metadata": {},
   "outputs": [
    {
     "name": "stdout",
     "output_type": "stream",
     "text": [
      "<!DOCTYPE html>\n",
      "<html>\n",
      "  <head>\n",
      "    <title>Flask App</title>\n",
      "    <link rel='stylesheet' href={{url_for('static',filename='css/main.css')}}>\n",
      "  </head>\n",
      "  <body>\n",
      "    <header>\n",
      "      <div class=\"container\">\n",
      "\t<h1 class=\"logo\">Viren's Web App</h1>\n",
      "        <strong><nav>\n",
      "\t  <ul class =\"menu\">\n",
      "\t    <li><a href=\"{{ url_for('home')}}\">Home</a></li>\n",
      "\t    <li><a href=\"{{ url_for('about')}}\">About</a></li>\n",
      "\t  </ul>\n",
      "\t</nav></strong>\n",
      "      </div>\n",
      "    </header>\n",
      "    <div class=\"container\">\n",
      "\t{%block content%}\n",
      "\t{%endblock%}\n",
      "    </div>\n",
      "  </body>\n",
      "</html> \n"
     ]
    }
   ],
   "source": [
    "## LayoutPage template\n",
    "\n",
    "file=open(\"templates/layout.html\",\"r\")\n",
    "print(file.read())"
   ]
  },
  {
   "cell_type": "markdown",
   "metadata": {},
   "source": [
    "![](styling.png)"
   ]
  },
  {
   "cell_type": "markdown",
   "metadata": {},
   "source": [
    "![Hi](styling1.png)"
   ]
  },
  {
   "cell_type": "markdown",
   "metadata": {},
   "source": [
    "### Create a Python Virtual environment"
   ]
  },
  {
   "cell_type": "code",
   "execution_count": 17,
   "metadata": {},
   "outputs": [
    {
     "name": "stdout",
     "output_type": "stream",
     "text": [
      "\n",
      "The following command must be run outside of the IPython shell:\n",
      "\n",
      "    $ pip install virtualenv \n",
      "\n",
      "The Python package manager (pip) can only be used from outside of IPython.\n",
      "Please reissue the `pip` command in a separate terminal or command prompt.\n",
      "\n",
      "See the Python documentation for more information on how to install packages:\n",
      "\n",
      "    https://docs.python.org/3/installing/\n"
     ]
    }
   ],
   "source": [
    "pip install virtualenv "
   ]
  },
  {
   "cell_type": "markdown",
   "metadata": {},
   "source": [
    "* Also, update your pip before creating your Virtual Environment, by using--\n",
    "\n",
    "python -m pip install –upgrade pip"
   ]
  },
  {
   "cell_type": "markdown",
   "metadata": {},
   "source": [
    "* Then create Virtual environment in the same folder (with 'demo' folder)\n",
    "\n",
    "python -m venv virtual"
   ]
  },
  {
   "cell_type": "markdown",
   "metadata": {},
   "source": [
    "The virtual folder is added to the discribed path"
   ]
  },
  {
   "cell_type": "markdown",
   "metadata": {},
   "source": [
    "![](virtual.png)"
   ]
  },
  {
   "cell_type": "markdown",
   "metadata": {},
   "source": [
    "### Deploying the website to a live server"
   ]
  },
  {
   "cell_type": "markdown",
   "metadata": {},
   "source": [
    "![](heroku_1.png)"
   ]
  },
  {
   "cell_type": "markdown",
   "metadata": {},
   "source": [
    "![](heroku_2.png)"
   ]
  },
  {
   "cell_type": "markdown",
   "metadata": {},
   "source": [
    "### Follow the steps given below"
   ]
  },
  {
   "cell_type": "code",
   "execution_count": 16,
   "metadata": {},
   "outputs": [
    {
     "name": "stdout",
     "output_type": "stream",
     "text": [
      "Steps to deploy a static Flask website to Heroku\n",
      "\n",
      "1. Create an account on www.heroku.com if you don't have one already.\n",
      "2. Download and install Heroku Toolbelt from www.toolbelt.heroku.com/\n",
      "3. Install gunicorn with \"pip install gunicorn\". Make sure you're using pip from your virtual environment if you have one.\n",
      "4. Create a requirement.txt file in the main app directory where the main Python app file is located. You can create that file by running \"pip freeze > requirements.txt\" in the command line. Make sure you're using pip from your virtual environment if you have one. The requirement.txt file should now contain a list of Python packages.\n",
      "5. Create a file named \"Procfile\" in the main app directory. The file should not contain any extension. Then type in this line inside: \"web: gunicorn script1:app\" where \"script1\" should be replaced with the name of your Python script and \"app\" with the name of the variable holding your Flask app.\n",
      "6. Create a runtime.txt file in the main app directory and type \"python-3.5.1\" inside.\n",
      "If you're using Python 2, you may want to type in \"python-2.7.11\" instead.\n",
      "7. Open your computer terminal/command line to point to the directory where the Python file containing your app code is located.\n",
      "8. Using the terminal, log in to Heroku with \"heroku login\"\n",
      "9. Enter your Heroku email address\n",
      "10. Enter your Heroku password\n",
      "11. Create a new Heroku app with \"heroku create myawesomeappname\"\n",
      "17. Initialize a local git repository with \"git init\"\n",
      "18. Add your local application files to git with \"git add .\"\n",
      "19. Tell git your email address with \"git config --global user.email \"myemail@hotmail.com\"\". Make sure the email address is inside quotes here. \n",
      "20. Tell git your username (just pick whatever username) with \"config --global user.name \"whateverusername\"\". The username should be in quotes.\n",
      "21. Commit the changes with \"git commit -m \"first commit\"\". Make sure \"first commit\" is inside quotes.\n",
      "22. Before pushing the changes to Heroku, tell heroku the name of the app you want to use with heroku \"git:remote --app myawesomeappname\"\n",
      "23. Push the changes to Heroku with \"git push heroku master\"\n",
      "26. That should do it. Go ahead and open your app with \"heroku open\".\n",
      "\n"
     ]
    }
   ],
   "source": [
    "file=open(\"Deployment-steps-no-database.txt\",\"r\")\n",
    "print(file.read())"
   ]
  },
  {
   "cell_type": "markdown",
   "metadata": {},
   "source": [
    "## Final Output "
   ]
  },
  {
   "cell_type": "markdown",
   "metadata": {},
   "source": [
    "* The website can be accessed from anywhere -- https://rexy-26.herokuapp.com/"
   ]
  },
  {
   "cell_type": "code",
   "execution_count": null,
   "metadata": {},
   "outputs": [],
   "source": []
  }
 ],
 "metadata": {
  "kernelspec": {
   "display_name": "Python 3",
   "language": "python",
   "name": "python3"
  },
  "language_info": {
   "codemirror_mode": {
    "name": "ipython",
    "version": 3
   },
   "file_extension": ".py",
   "mimetype": "text/x-python",
   "name": "python",
   "nbconvert_exporter": "python",
   "pygments_lexer": "ipython3",
   "version": "3.5.0"
  }
 },
 "nbformat": 4,
 "nbformat_minor": 2
}
